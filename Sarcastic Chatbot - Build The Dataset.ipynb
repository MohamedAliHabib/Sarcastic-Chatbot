{
 "cells": [
  {
   "cell_type": "markdown",
   "metadata": {},
   "source": [
    "# Building the dataset"
   ]
  },
  {
   "cell_type": "markdown",
   "metadata": {},
   "source": [
    "In this notebook, I'm going to be working with three datasets to create the dataset that the chatbot will be trained on."
   ]
  },
  {
   "cell_type": "code",
   "execution_count": 1,
   "metadata": {},
   "outputs": [],
   "source": [
    "import pandas as pd"
   ]
  },
  {
   "cell_type": "code",
   "execution_count": 2,
   "metadata": {},
   "outputs": [],
   "source": [
    "files_path = 'D:/Sarcastic Chatbot/Input/'"
   ]
  },
  {
   "cell_type": "markdown",
   "metadata": {},
   "source": [
    "# First dataset\n",
    "**The Wordball Joke Dataset**, [link](https://www.kaggle.com/bfinan/jokes-question-and-answer/).\n",
    "\n",
    "This dataset consists of three files, namely:\n",
    "1. <i>qajokes1.1.2.csv</i>: with <i>75,114</i> pairs.\n",
    "2. <i>t_lightbulbs.csv</i>: with <i>2,640</i> pairs.\n",
    "3. <i>t_nosubject.csv</i>: with <i>32,120</i> pairs.\n",
    "\n",
    "However, I'm not going to incorporate <i>t_lightbulbs.csv</i> in my dataset because I don't want that many examples of one topic. Besides, all the examples are similar in structure (they all start with <i>how many</i>)."
   ]
  },
  {
   "cell_type": "markdown",
   "metadata": {},
   "source": [
    "Read the data files into pandas dataframes:"
   ]
  },
  {
   "cell_type": "code",
   "execution_count": 3,
   "metadata": {},
   "outputs": [],
   "source": [
    "wordball_qajokes = pd.read_csv(files_path + 'qajokes1.1.2.csv', usecols=['Question', 'Answer'])\n",
    "wordball_nosubj = pd.read_csv(files_path + 't_nosubject.csv', usecols=['Question', 'Answer'])"
   ]
  },
  {
   "cell_type": "code",
   "execution_count": 4,
   "metadata": {},
   "outputs": [
    {
     "name": "stdout",
     "output_type": "stream",
     "text": [
      "75114\n",
      "32120\n"
     ]
    }
   ],
   "source": [
    "print(len(wordball_qajokes))\n",
    "print(len(wordball_nosubj))"
   ]
  },
  {
   "cell_type": "code",
   "execution_count": 5,
   "metadata": {},
   "outputs": [
    {
     "data": {
      "text/html": [
       "<div>\n",
       "<style scoped>\n",
       "    .dataframe tbody tr th:only-of-type {\n",
       "        vertical-align: middle;\n",
       "    }\n",
       "\n",
       "    .dataframe tbody tr th {\n",
       "        vertical-align: top;\n",
       "    }\n",
       "\n",
       "    .dataframe thead th {\n",
       "        text-align: right;\n",
       "    }\n",
       "</style>\n",
       "<table border=\"1\" class=\"dataframe\">\n",
       "  <thead>\n",
       "    <tr style=\"text-align: right;\">\n",
       "      <th></th>\n",
       "      <th>Question</th>\n",
       "      <th>Answer</th>\n",
       "    </tr>\n",
       "  </thead>\n",
       "  <tbody>\n",
       "    <tr>\n",
       "      <th>0</th>\n",
       "      <td>What's the best anti diarrheal prescription?</td>\n",
       "      <td>Mycheexarphlexin</td>\n",
       "    </tr>\n",
       "    <tr>\n",
       "      <th>1</th>\n",
       "      <td>What do you call a person who is outside a doo...</td>\n",
       "      <td>Matt</td>\n",
       "    </tr>\n",
       "    <tr>\n",
       "      <th>2</th>\n",
       "      <td>Which Star Trek character is a member of the m...</td>\n",
       "      <td>Jean-Luc Pickacard</td>\n",
       "    </tr>\n",
       "    <tr>\n",
       "      <th>3</th>\n",
       "      <td>What's the difference between a bullet and a h...</td>\n",
       "      <td>A bullet doesn't miss Harambe</td>\n",
       "    </tr>\n",
       "    <tr>\n",
       "      <th>4</th>\n",
       "      <td>Why was the Ethiopian baby crying?</td>\n",
       "      <td>He was having a mid-life crisis</td>\n",
       "    </tr>\n",
       "  </tbody>\n",
       "</table>\n",
       "</div>"
      ],
      "text/plain": [
       "                                            Question  \\\n",
       "0       What's the best anti diarrheal prescription?   \n",
       "1  What do you call a person who is outside a doo...   \n",
       "2  Which Star Trek character is a member of the m...   \n",
       "3  What's the difference between a bullet and a h...   \n",
       "4                 Why was the Ethiopian baby crying?   \n",
       "\n",
       "                            Answer  \n",
       "0                 Mycheexarphlexin  \n",
       "1                             Matt  \n",
       "2               Jean-Luc Pickacard  \n",
       "3    A bullet doesn't miss Harambe  \n",
       "4  He was having a mid-life crisis  "
      ]
     },
     "execution_count": 5,
     "metadata": {},
     "output_type": "execute_result"
    }
   ],
   "source": [
    "wordball_qajokes.head()"
   ]
  },
  {
   "cell_type": "code",
   "execution_count": 6,
   "metadata": {},
   "outputs": [
    {
     "data": {
      "text/html": [
       "<div>\n",
       "<style scoped>\n",
       "    .dataframe tbody tr th:only-of-type {\n",
       "        vertical-align: middle;\n",
       "    }\n",
       "\n",
       "    .dataframe tbody tr th {\n",
       "        vertical-align: top;\n",
       "    }\n",
       "\n",
       "    .dataframe thead th {\n",
       "        text-align: right;\n",
       "    }\n",
       "</style>\n",
       "<table border=\"1\" class=\"dataframe\">\n",
       "  <thead>\n",
       "    <tr style=\"text-align: right;\">\n",
       "      <th></th>\n",
       "      <th>Question</th>\n",
       "      <th>Answer</th>\n",
       "    </tr>\n",
       "  </thead>\n",
       "  <tbody>\n",
       "    <tr>\n",
       "      <th>0</th>\n",
       "      <td>Did you hear about the Native American man tha...</td>\n",
       "      <td>He nearly drown in his own tea pee.</td>\n",
       "    </tr>\n",
       "    <tr>\n",
       "      <th>1</th>\n",
       "      <td>Did you hear about the oyster who went to the ...</td>\n",
       "      <td>He pulled a muscle</td>\n",
       "    </tr>\n",
       "    <tr>\n",
       "      <th>2</th>\n",
       "      <td>Shall I tell you the joke about the kidnappers?</td>\n",
       "      <td>I'd better not. You might get carried away.</td>\n",
       "    </tr>\n",
       "    <tr>\n",
       "      <th>3</th>\n",
       "      <td>Do you like fish sticks?</td>\n",
       "      <td>Well then, you're a gay fish.</td>\n",
       "    </tr>\n",
       "    <tr>\n",
       "      <th>4</th>\n",
       "      <td>Want to hear a joke about UDP?</td>\n",
       "      <td>Never mind. you won't get it, and I won't care</td>\n",
       "    </tr>\n",
       "  </tbody>\n",
       "</table>\n",
       "</div>"
      ],
      "text/plain": [
       "                                            Question  \\\n",
       "0  Did you hear about the Native American man tha...   \n",
       "1  Did you hear about the oyster who went to the ...   \n",
       "2    Shall I tell you the joke about the kidnappers?   \n",
       "3                           Do you like fish sticks?   \n",
       "4                     Want to hear a joke about UDP?   \n",
       "\n",
       "                                           Answer  \n",
       "0             He nearly drown in his own tea pee.  \n",
       "1                             He pulled a muscle   \n",
       "2     I'd better not. You might get carried away.  \n",
       "3                  Well then, you're a gay fish.   \n",
       "4  Never mind. you won't get it, and I won't care  "
      ]
     },
     "execution_count": 6,
     "metadata": {},
     "output_type": "execute_result"
    }
   ],
   "source": [
    "wordball_nosubj.head()"
   ]
  },
  {
   "cell_type": "markdown",
   "metadata": {},
   "source": [
    "Concatenate both dataframes into one:"
   ]
  },
  {
   "cell_type": "code",
   "execution_count": 7,
   "metadata": {},
   "outputs": [
    {
     "data": {
      "text/html": [
       "<div>\n",
       "<style scoped>\n",
       "    .dataframe tbody tr th:only-of-type {\n",
       "        vertical-align: middle;\n",
       "    }\n",
       "\n",
       "    .dataframe tbody tr th {\n",
       "        vertical-align: top;\n",
       "    }\n",
       "\n",
       "    .dataframe thead th {\n",
       "        text-align: right;\n",
       "    }\n",
       "</style>\n",
       "<table border=\"1\" class=\"dataframe\">\n",
       "  <thead>\n",
       "    <tr style=\"text-align: right;\">\n",
       "      <th></th>\n",
       "      <th>Question</th>\n",
       "      <th>Answer</th>\n",
       "    </tr>\n",
       "  </thead>\n",
       "  <tbody>\n",
       "    <tr>\n",
       "      <th>0</th>\n",
       "      <td>What's the best anti diarrheal prescription?</td>\n",
       "      <td>Mycheexarphlexin</td>\n",
       "    </tr>\n",
       "    <tr>\n",
       "      <th>1</th>\n",
       "      <td>What do you call a person who is outside a doo...</td>\n",
       "      <td>Matt</td>\n",
       "    </tr>\n",
       "    <tr>\n",
       "      <th>2</th>\n",
       "      <td>Which Star Trek character is a member of the m...</td>\n",
       "      <td>Jean-Luc Pickacard</td>\n",
       "    </tr>\n",
       "    <tr>\n",
       "      <th>3</th>\n",
       "      <td>What's the difference between a bullet and a h...</td>\n",
       "      <td>A bullet doesn't miss Harambe</td>\n",
       "    </tr>\n",
       "    <tr>\n",
       "      <th>4</th>\n",
       "      <td>Why was the Ethiopian baby crying?</td>\n",
       "      <td>He was having a mid-life crisis</td>\n",
       "    </tr>\n",
       "  </tbody>\n",
       "</table>\n",
       "</div>"
      ],
      "text/plain": [
       "                                            Question  \\\n",
       "0       What's the best anti diarrheal prescription?   \n",
       "1  What do you call a person who is outside a doo...   \n",
       "2  Which Star Trek character is a member of the m...   \n",
       "3  What's the difference between a bullet and a h...   \n",
       "4                 Why was the Ethiopian baby crying?   \n",
       "\n",
       "                            Answer  \n",
       "0                 Mycheexarphlexin  \n",
       "1                             Matt  \n",
       "2               Jean-Luc Pickacard  \n",
       "3    A bullet doesn't miss Harambe  \n",
       "4  He was having a mid-life crisis  "
      ]
     },
     "execution_count": 7,
     "metadata": {},
     "output_type": "execute_result"
    }
   ],
   "source": [
    "wordball = pd.concat([wordball_qajokes, wordball_nosubj], ignore_index=True)\n",
    "wordball.head()"
   ]
  },
  {
   "cell_type": "code",
   "execution_count": 8,
   "metadata": {},
   "outputs": [
    {
     "name": "stdout",
     "output_type": "stream",
     "text": [
      "Number of question-answer pairs in the Wordball dataset: 107234\n"
     ]
    }
   ],
   "source": [
    "print(f\"Number of question-answer pairs in the Wordball dataset: {len(wordball)}\")"
   ]
  },
  {
   "cell_type": "markdown",
   "metadata": {},
   "source": [
    "## Text Preprocessing"
   ]
  },
  {
   "cell_type": "markdown",
   "metadata": {},
   "source": [
    "It turns out that not all cells are of type string. So, we can just apply the *str* function to make sure that all of them are of the same desired type."
   ]
  },
  {
   "cell_type": "code",
   "execution_count": 9,
   "metadata": {},
   "outputs": [],
   "source": [
    "wordball = wordball.applymap(str)"
   ]
  },
  {
   "cell_type": "markdown",
   "metadata": {},
   "source": [
    "Let's look at the characters used in this dataset:"
   ]
  },
  {
   "cell_type": "code",
   "execution_count": 10,
   "metadata": {},
   "outputs": [],
   "source": [
    "def distinct_chars(data, cols):\n",
    "    \"\"\"\n",
    "    This method takes in a pandas dataframe and prints all distinct characters.\n",
    "    data: a pandas dataframe.\n",
    "    cols: a Python list, representing names of columns for questions and answers. First item of the list should be the name \n",
    "    of the questions column and the second item should be the name of the column corresponding to answers.\n",
    "    \"\"\"\n",
    "    \n",
    "    if cols is None:\n",
    "        cols = list(data.columns)\n",
    "    \n",
    "    # join all questions into one string\n",
    "    questions = ' '.join(data[cols[0]])\n",
    "    # join all answers into one string\n",
    "    answers = ' '.join(data[cols[1]])\n",
    "    \n",
    "    # get distinct characters used in the data (all questions and answers)\n",
    "    dis_chars = set(questions+answers)\n",
    "    \n",
    "    # print the distinct characters that are used in the data\n",
    "    print(f\"Number of distinct characters used in the dataset: {len(dis_chars)}\")\n",
    "    # print(dis_chars)    \n",
    "    dis_chars = list(dis_chars)\n",
    "    \n",
    "    # Now let's print those characters in an organized way\n",
    "    digits = [char for char in dis_chars if char.isdigit()]\n",
    "    alphabets = [char for char in dis_chars if char.isalpha()]\n",
    "    special = [char for char in dis_chars if not (char.isdigit() | char.isalpha())]\n",
    "    # sort them to make them easier to read\n",
    "    digits = sorted(digits)\n",
    "    alphabets = sorted(alphabets)\n",
    "    special = sorted(special)\n",
    "    \n",
    "    print(f\"Digits: {digits}\")\n",
    "    print(f\"Alphabets: {alphabets}\")\n",
    "    print(f\"Special characters: {special}\")"
   ]
  },
  {
   "cell_type": "code",
   "execution_count": 11,
   "metadata": {},
   "outputs": [
    {
     "name": "stdout",
     "output_type": "stream",
     "text": [
      "Number of distinct characters used in the dataset: 120\n",
      "Digits: ['0', '1', '2', '3', '4', '5', '6', '7', '8', '9']\n",
      "Alphabets: ['A', 'B', 'C', 'D', 'E', 'F', 'G', 'H', 'I', 'J', 'K', 'L', 'M', 'N', 'O', 'P', 'Q', 'R', 'S', 'T', 'U', 'V', 'W', 'X', 'Y', 'Z', 'a', 'b', 'c', 'd', 'e', 'f', 'g', 'h', 'i', 'j', 'k', 'l', 'm', 'n', 'o', 'p', 'q', 'r', 's', 't', 'u', 'v', 'w', 'x', 'y', 'z', 'ß', 'è', 'é', 'ñ', 'ó', 'ö', 'ü']\n",
      "Special characters: [' ', '!', '\"', '#', '$', '%', '&', \"'\", '(', ')', '*', '+', ',', '-', '.', '/', ':', ';', '<', '=', '>', '?', '@', '[', '\\\\', ']', '^', '_', '`', '{', '|', '}', '~', '\\xa0', '¡', '¤', '«', '°', '»', '¿', '\\u200b', '–', '—', '‘', '’', '“', '”', '…', '™', '\\ufeff', '🎺']\n"
     ]
    }
   ],
   "source": [
    "distinct_chars(wordball, ['Question', 'Answer'])"
   ]
  },
  {
   "cell_type": "markdown",
   "metadata": {},
   "source": [
    "The following function replaces some characters with others, removes unwanted characters and gets rid of extra whitespaces from the data."
   ]
  },
  {
   "cell_type": "code",
   "execution_count": 12,
   "metadata": {},
   "outputs": [],
   "source": [
    "def clean_text(text):\n",
    "    \"\"\"\n",
    "    This method takes a string, applies different text preprocessing (characters replacement, removal of unwanted characters, \n",
    "    removal of extra whitespaces) operations and returns a string.\n",
    "    text: a string.\n",
    "    \"\"\"\n",
    "    import re\n",
    "    \n",
    "    text = str(text)\n",
    "    \n",
    "    # REPLACEMENT\n",
    "    # replace \" with ' (because they basically mean the same thing)\n",
    "    # text = text.replace('\\\"','\\'')\n",
    "    text = re.sub('\\\"', '\\'', text)\n",
    "    # replace “ and ” with '\n",
    "    # text = text.replace(\"“\",'\\'').replace(\"”\",'\\'')\n",
    "    text = re.sub(\"“\", '\\'', text)\n",
    "    text = re.sub(\"”\", '\\'', text)\n",
    "    # replace ’ with '\n",
    "    # text = text.replace('’','\\'')\n",
    "    text = re.sub('’', '\\'', text)\n",
    "    # replace [] and {} with ()\n",
    "    #text = text.replace('[','(').replace(']',')').replace('{','(').replace('}',')')\n",
    "    text = re.sub('\\[','(', text)\n",
    "    text = re.sub('\\]',')', text)\n",
    "    text = re.sub('\\{','(', text)\n",
    "    text = re.sub('\\}',')', text)\n",
    "    # replace ? with itself and a whitespace preceding it\n",
    "    # ex. what's your name? (we want the word name and question mark to be separate tokens)\n",
    "    # text = re.sub('\\?', ' ?', text)\n",
    "    # creating a space between a word and the punctuation following it\n",
    "    # punctuation we're using: . , : ; ' ? ! + - * / = % $ @ & ( )\n",
    "    text = re.sub(\"([?.!,:;'?!+\\-*/=%$@&()])\", r\" \\1 \", text)\n",
    "    \n",
    "    \n",
    "    # REMOVAL OF UNWANTED CHARACTERS\n",
    "    # accept only alphanumeric and some special characters and remove all others\n",
    "    # a-zA-Z0-9 : matches any alphanumeric character and the underscore.\n",
    "    # \\. : matches .\n",
    "    # \\, : matches ,\n",
    "    # \\: : matches :\n",
    "    # \\; : matches ;\n",
    "    # \\' : matches '\n",
    "    # \\? : matches ?\n",
    "    # \\! : matches !\n",
    "    # \\+ : matches +\n",
    "    # \\- : matches -\n",
    "    # \\* : matches *\n",
    "    # \\/ : matches /\n",
    "    # \\= : matches =\n",
    "    # \\% : matches %\n",
    "    # \\$ : matches $\n",
    "    # \\@ : matches @\n",
    "    # \\& : matches &\n",
    "    # ^ is added to the beginning of the set to express that we want the regex to recognize all other characters except\n",
    "    # these that are explicitly specified, so that we can omit them.\n",
    "    # define the pattern\n",
    "    pattern = re.compile('[^a-zA-Z0-9_\\.\\,\\:\\;\\'\\?\\!\\+\\-\\*\\/\\=\\%\\$\\@\\&\\(\\)]')\n",
    "    # remove unwanted characters\n",
    "    text = re.sub(pattern, ' ', text)\n",
    "    \n",
    "    # lower case the characters in the string\n",
    "    text = text.lower()\n",
    "    \n",
    "    # REMOVAL OF EXTRA WHITESPACES\n",
    "    # remove duplicated spaces\n",
    "    text = re.sub(' +', ' ', text)\n",
    "    # remove leading and trailing spaces\n",
    "    text = text.strip()\n",
    "    \n",
    "    return text"
   ]
  },
  {
   "cell_type": "markdown",
   "metadata": {},
   "source": [
    "Let's try it out:"
   ]
  },
  {
   "cell_type": "code",
   "execution_count": 13,
   "metadata": {},
   "outputs": [
    {
     "data": {
      "text/plain": [
       "\"a nice quote i read today : ' everything that you are going through is preparing you for what you asked for ' . @ hi % & = + - * /\""
      ]
     },
     "execution_count": 13,
     "metadata": {},
     "output_type": "execute_result"
    }
   ],
   "source": [
    "clean_text(\"A nice quote I read    today: “Everything that you are going through is preparing you for what you asked for”. @hi % & =+-*/\")"
   ]
  },
  {
   "cell_type": "markdown",
   "metadata": {},
   "source": [
    "The following method prints a question-answer pair from the dataset, it will be helpful to give us a sense of what the *clean_text* function results in:"
   ]
  },
  {
   "cell_type": "code",
   "execution_count": 14,
   "metadata": {},
   "outputs": [],
   "source": [
    "def print_question_answer(df, index, cols):\n",
    "    print(f\"Question: ({index})\")\n",
    "    print(df.loc[index][cols[0]])\n",
    "    print(f\"Answer: ({index})\")\n",
    "    print(df.loc[index][cols[1]])"
   ]
  },
  {
   "cell_type": "code",
   "execution_count": 15,
   "metadata": {},
   "outputs": [
    {
     "name": "stdout",
     "output_type": "stream",
     "text": [
      "Before applying text preprocessing:\n",
      "Question: (102)\n",
      "What's 11 & 2?\n",
      "Answer: (102)\n",
      "The Cowboys\n",
      "Question: (200)\n",
      "What did the girlfriend say to her boyfriend that was bitten by a zombie?\n",
      "Answer: (200)\n",
      "You're dead to me\"\n",
      "Question: (88376)\n",
      "I think my husband is psychic! \"Honey, what do you think of this outfit\n",
      "Answer: (88376)\n",
      "\" {from other room} \"You look great!\"\n",
      "Question: (94351)\n",
      "{Thomas Edison prank call} Is your refrigerator running\n",
      "Answer: (94351)\n",
      " \"Yes..\" YOU'RE WELCOME! *click*\n"
     ]
    }
   ],
   "source": [
    "print(\"Before applying text preprocessing:\")\n",
    "print_question_answer(wordball, 102, ['Question', 'Answer'])\n",
    "print_question_answer(wordball, 200, ['Question', 'Answer'])\n",
    "print_question_answer(wordball, 88376, ['Question', 'Answer'])\n",
    "print_question_answer(wordball, 94351, ['Question', 'Answer'])"
   ]
  },
  {
   "cell_type": "markdown",
   "metadata": {},
   "source": [
    "Apply text preprocessing (characters replacement, removal of unwanted characters, removal of extra whitespaces):"
   ]
  },
  {
   "cell_type": "code",
   "execution_count": 16,
   "metadata": {
    "scrolled": true
   },
   "outputs": [],
   "source": [
    "wordball = wordball.applymap(clean_text)"
   ]
  },
  {
   "cell_type": "code",
   "execution_count": 17,
   "metadata": {},
   "outputs": [
    {
     "name": "stdout",
     "output_type": "stream",
     "text": [
      "After applying text preprocessing:\n",
      "Question: (102)\n",
      "what ' s 11 & 2 ?\n",
      "Answer: (102)\n",
      "the cowboys\n",
      "Question: (200)\n",
      "what did the girlfriend say to her boyfriend that was bitten by a zombie ?\n",
      "Answer: (200)\n",
      "you ' re dead to me '\n",
      "Question: (88376)\n",
      "i think my husband is psychic ! ' honey , what do you think of this outfit\n",
      "Answer: (88376)\n",
      "' ( from other room ) ' you look great ! '\n",
      "Question: (94351)\n",
      "( thomas edison prank call ) is your refrigerator running\n",
      "Answer: (94351)\n",
      "' yes . . ' you ' re welcome ! * click *\n"
     ]
    }
   ],
   "source": [
    "print(\"After applying text preprocessing:\")\n",
    "print_question_answer(wordball, 102, ['Question', 'Answer'])\n",
    "print_question_answer(wordball, 200, ['Question', 'Answer'])\n",
    "print_question_answer(wordball, 88376, ['Question', 'Answer'])\n",
    "print_question_answer(wordball, 94351, ['Question', 'Answer'])"
   ]
  },
  {
   "cell_type": "markdown",
   "metadata": {},
   "source": [
    "The following function applies some preprocessing operations on the data, concretely:\n",
    "1. Drops unecessary duplicate pairs (rows) but keep only one instance of all duplicates. *(For example, if the dataset contains three duplicates of the same question-answer pair, then two of them would be removed and one kept.)*\n",
    "2. Drops rows with empty question/answer. *(These may appear because of the previous step or because they happen to be empty in the original dataset) *\n",
    "3. Drops rows with more than 30 words in either the question or the answer or if the answer has less than two characters. *(Note: this is a hyperparameter and you can try other values.)*"
   ]
  },
  {
   "cell_type": "code",
   "execution_count": 18,
   "metadata": {},
   "outputs": [],
   "source": [
    "def preprocess_data(data, cols):\n",
    "    \"\"\"\n",
    "    This method preprocess data and does the following:\n",
    "    1. drops unecessary duplicate pairs.\n",
    "    2. drops rows with empty strings.\n",
    "    3. drops rows with more than 30 words in either the question or the answer, \n",
    "    or if the an answer has less than two characters.\n",
    "    Arguments:\n",
    "        data: a pandas dataframe.\n",
    "        cols: a Python list, representing names of columns for questions and answers. First item of the list should be the name \n",
    "        of the questions column and the second item should be the name of the column corresponding to answers.\n",
    "    Returns:\n",
    "        a pandas dataframe.\n",
    "    \"\"\"\n",
    "    \n",
    "    \n",
    "    # (1) Remove unecessary duplicate pairs but keep only one instance of all duplicates.\n",
    "    print('Removing unecessary duplicate pairs:')\n",
    "    data_len_before = len(data) # len of data before removing duplicates\n",
    "    print(f\"# of examples before removing duplicates: {data_len_before}\")\n",
    "    # drop duplicates\n",
    "    data = data.drop_duplicates(keep='first')\n",
    "    data_len_after = len(data) # len of data after removing duplicates\n",
    "    print(f\"# of examples after removing duplicates: {data_len_after}\")\n",
    "    print(f\"# of removed duplicates: {data_len_before-data_len_after}\")\n",
    "    \n",
    "    \n",
    "    # (2) Drop rows with empty strings.\n",
    "    print('Removing empty string rows:')\n",
    "    if cols is None:\n",
    "        cols = list(data.columns)\n",
    "        \n",
    "    data_len_before = len(data) # len of data before removing empty strings\n",
    "    print(f\"# of examples before removing rows with empty question/answers: {data_len_before}\")\n",
    "    # I am going to use boolean masking to filter out rows with an empty question or answer\n",
    "    data = data[(data[cols[0]] != '') & (data[cols[1]] != '')]\n",
    "    # also, the following row results in the same as the above.\n",
    "    # data = data.query('Answer != \"\" and Question != \"\"')\n",
    "    data_len_after = len(data) # len of data after removing empty strings\n",
    "    print(f\"# of examples after removing with empty question/answers: {data_len_after}\")\n",
    "    print(f\"# of removed empty string rows: {data_len_before-data_len_after}\")\n",
    "    \n",
    "    \n",
    "    # (3) Drop rows with more than 30 words in either the question or the answer\n",
    "    # or if the an answer has less than two characters.\n",
    "    def accepted_length(qa_pair):\n",
    "        q_len = len(qa_pair[0].split(' '))\n",
    "        a_len = len(qa_pair[1].split(' '))\n",
    "        if (q_len <= 30) & ((a_len <= 30) & (len(qa_pair[1]) > 1)):\n",
    "            return True\n",
    "        return False\n",
    "    \n",
    "    print('Removing rows with more than 30 words in either the question or the answer:')\n",
    "    data_len_before = len(data) # len of data before dropping those rows (30+ words)\n",
    "    print(f\"# of examples before removing rows with more than 30 words: {data_len_before}\")\n",
    "    # filter out rows with more than 30 words\n",
    "    accepted_mask = data.apply(accepted_length, axis=1)\n",
    "    data = data[accepted_mask]\n",
    "    data_len_after = len(data) # len of data after dropping those rows (50+ words)\n",
    "    print(f\"# of examples after removing rows with more than 30 words: {data_len_after}\")\n",
    "    print(f\"# of removed empty rows with more than 30 words: {data_len_before-data_len_after}\")\n",
    "    \n",
    "    print(\"Data preprocessing is done.\")\n",
    "    \n",
    "    return data"
   ]
  },
  {
   "cell_type": "code",
   "execution_count": 19,
   "metadata": {
    "scrolled": true
   },
   "outputs": [
    {
     "name": "stdout",
     "output_type": "stream",
     "text": [
      "Removing unecessary duplicate pairs:\n",
      "# of examples before removing duplicates: 107234\n",
      "# of examples after removing duplicates: 107144\n",
      "# of removed duplicates: 90\n",
      "Removing empty string rows:\n",
      "# of examples before removing rows with empty question/answers: 107144\n",
      "# of examples after removing with empty question/answers: 107054\n",
      "# of removed empty string rows: 90\n",
      "Removing rows with more than 30 words in either the question or the answer:\n",
      "# of examples before removing rows with more than 30 words: 107054\n",
      "# of examples after removing rows with more than 30 words: 101712\n",
      "# of removed empty rows with more than 30 words: 5342\n",
      "Data preprocessing is done.\n"
     ]
    }
   ],
   "source": [
    "wordball = preprocess_data(wordball, ['Question', 'Answer'])"
   ]
  },
  {
   "cell_type": "code",
   "execution_count": 20,
   "metadata": {
    "scrolled": true
   },
   "outputs": [
    {
     "name": "stdout",
     "output_type": "stream",
     "text": [
      "# of question-answer pairs we have left in the Wordball dataset: 101712\n"
     ]
    }
   ],
   "source": [
    "print(f\"# of question-answer pairs we have left in the Wordball dataset: {len(wordball)}\")"
   ]
  },
  {
   "cell_type": "markdown",
   "metadata": {},
   "source": [
    "Let's look at the characters after cleaning the data:"
   ]
  },
  {
   "cell_type": "code",
   "execution_count": 21,
   "metadata": {},
   "outputs": [
    {
     "name": "stdout",
     "output_type": "stream",
     "text": [
      "Number of distinct characters used in the dataset: 56\n",
      "Digits: ['0', '1', '2', '3', '4', '5', '6', '7', '8', '9']\n",
      "Alphabets: ['a', 'b', 'c', 'd', 'e', 'f', 'g', 'h', 'i', 'j', 'k', 'l', 'm', 'n', 'o', 'p', 'q', 'r', 's', 't', 'u', 'v', 'w', 'x', 'y', 'z']\n",
      "Special characters: [' ', '!', '$', '%', '&', \"'\", '(', ')', '*', '+', ',', '-', '.', '/', ':', ';', '=', '?', '@', '_']\n"
     ]
    }
   ],
   "source": [
    "distinct_chars(wordball, ['Question', 'Answer'])"
   ]
  },
  {
   "cell_type": "markdown",
   "metadata": {},
   "source": [
    "# Second Dataset\n",
    "**reddit /r/Jokes**, [here](https://www.kaggle.com/cuddlefish/reddit-rjokes#jokes_score_name_clean.csv).\n",
    "\n",
    "This dataset consists of two files, namely:\n",
    "1. <i>jokes_score_name_clean.csv</i>: with <i>133,992</i> pairs.\n",
    "2. <i>all_jokes.csv</i>\n",
    "\n",
    "However, I'm not going to incorporate <i>all_jokes.csv</i> in the dataset because it's so messy."
   ]
  },
  {
   "cell_type": "code",
   "execution_count": 22,
   "metadata": {},
   "outputs": [],
   "source": [
    "reddit_jokes = pd.read_csv(files_path + 'jokes_score_name_clean.csv', usecols=['q', 'a'])"
   ]
  },
  {
   "cell_type": "markdown",
   "metadata": {},
   "source": [
    "Let's rename the columns to have them aligned with the previous dataset:"
   ]
  },
  {
   "cell_type": "code",
   "execution_count": 23,
   "metadata": {},
   "outputs": [],
   "source": [
    "reddit_jokes.rename(columns={'q':'Question', 'a':'Answer'}, inplace=True)"
   ]
  },
  {
   "cell_type": "code",
   "execution_count": 24,
   "metadata": {},
   "outputs": [
    {
     "data": {
      "text/html": [
       "<div>\n",
       "<style scoped>\n",
       "    .dataframe tbody tr th:only-of-type {\n",
       "        vertical-align: middle;\n",
       "    }\n",
       "\n",
       "    .dataframe tbody tr th {\n",
       "        vertical-align: top;\n",
       "    }\n",
       "\n",
       "    .dataframe thead th {\n",
       "        text-align: right;\n",
       "    }\n",
       "</style>\n",
       "<table border=\"1\" class=\"dataframe\">\n",
       "  <thead>\n",
       "    <tr style=\"text-align: right;\">\n",
       "      <th></th>\n",
       "      <th>Question</th>\n",
       "      <th>Answer</th>\n",
       "    </tr>\n",
       "  </thead>\n",
       "  <tbody>\n",
       "    <tr>\n",
       "      <th>0</th>\n",
       "      <td>I enjoy working in a slaughterhouse..</td>\n",
       "      <td>Everything is so cut and dry.</td>\n",
       "    </tr>\n",
       "    <tr>\n",
       "      <th>1</th>\n",
       "      <td>What do you call a soldier who survives Mustar...</td>\n",
       "      <td>A seasoned veteran.</td>\n",
       "    </tr>\n",
       "    <tr>\n",
       "      <th>2</th>\n",
       "      <td>I really like white dwarf stars...</td>\n",
       "      <td>...My favorite is Peter Dinklage.</td>\n",
       "    </tr>\n",
       "    <tr>\n",
       "      <th>3</th>\n",
       "      <td>Knock knock. Whose their?</td>\n",
       "      <td>The grammar police.</td>\n",
       "    </tr>\n",
       "    <tr>\n",
       "      <th>4</th>\n",
       "      <td>What breaks when you give it to a twelve year ...</td>\n",
       "      <td>Her hips.</td>\n",
       "    </tr>\n",
       "  </tbody>\n",
       "</table>\n",
       "</div>"
      ],
      "text/plain": [
       "                                            Question  \\\n",
       "0              I enjoy working in a slaughterhouse..   \n",
       "1  What do you call a soldier who survives Mustar...   \n",
       "2                 I really like white dwarf stars...   \n",
       "3                          Knock knock. Whose their?   \n",
       "4  What breaks when you give it to a twelve year ...   \n",
       "\n",
       "                               Answer  \n",
       "0       Everything is so cut and dry.  \n",
       "1                A seasoned veteran.   \n",
       "2  ...My favorite is Peter Dinklage.   \n",
       "3                 The grammar police.  \n",
       "4                          Her hips.   "
      ]
     },
     "execution_count": 24,
     "metadata": {},
     "output_type": "execute_result"
    }
   ],
   "source": [
    "reddit_jokes.head()"
   ]
  },
  {
   "cell_type": "code",
   "execution_count": 25,
   "metadata": {},
   "outputs": [
    {
     "name": "stdout",
     "output_type": "stream",
     "text": [
      "133328\n"
     ]
    }
   ],
   "source": [
    "print(len(reddit_jokes))"
   ]
  },
  {
   "cell_type": "code",
   "execution_count": 26,
   "metadata": {
    "scrolled": true
   },
   "outputs": [
    {
     "name": "stdout",
     "output_type": "stream",
     "text": [
      "Number of distinct characters used in the dataset: 567\n",
      "Digits: ['0', '1', '2', '3', '4', '5', '6', '7', '8', '9', '²', '³', '¹', '₂', '₄']\n",
      "Alphabets: ['A', 'B', 'C', 'D', 'E', 'F', 'G', 'H', 'I', 'J', 'K', 'L', 'M', 'N', 'O', 'P', 'Q', 'R', 'S', 'T', 'U', 'V', 'W', 'X', 'Y', 'Z', 'a', 'b', 'c', 'd', 'e', 'f', 'g', 'h', 'i', 'j', 'k', 'l', 'm', 'n', 'o', 'p', 'q', 'r', 's', 't', 'u', 'v', 'w', 'x', 'y', 'z', 'µ', 'º', 'Ä', 'Ñ', 'Ö', 'ß', 'à', 'á', 'ã', 'ä', 'å', 'æ', 'ç', 'è', 'é', 'ê', 'ë', 'ì', 'í', 'î', 'ï', 'ñ', 'ò', 'ó', 'ô', 'õ', 'ö', 'ø', 'ù', 'ú', 'û', 'ü', 'þ', 'ā', 'ē', 'ě', 'ı', 'ń', 'ō', 'œ', 'ƃ', 'Ɔ', 'ǎ', 'ǐ', 'ǒ', 'ǚ', 'ǝ', 'ɐ', 'ɑ', 'ɔ', 'ə', 'ɟ', 'ɡ', 'ɥ', 'ɪ', 'ɯ', 'ɴ', 'ɹ', 'ɾ', 'ʇ', 'ʌ', 'ʍ', 'ʎ', 'ʏ', 'ʖ', 'ʘ', 'ʞ', 'ʟ', 'ʰ', 'ʲ', 'ʳ', 'ʷ', 'ʸ', 'ˈ', 'ˢ', 'Δ', 'Π', 'Σ', 'ί', 'α', 'κ', 'λ', 'μ', 'ν', 'π', 'ρ', 'ω', 'ϱ', 'А', 'Д', 'К', 'Т', 'а', 'е', 'л', 'м', 'о', 'т', 'ш', 'я', 'Ԁ', 'א', 'ב', 'ג', 'ה', 'ו', 'ז', 'ח', 'ט', 'י', 'ך', 'כ', 'ל', 'ם', 'ן', 'נ', 'ע', 'פ', 'צ', 'ק', 'ר', 'ש', 'ת', 'ॐ', 'ಠ', 'ᴀ', 'ᴄ', 'ᴅ', 'ᴇ', 'ᴉ', 'ᴍ', 'ᴏ', 'ᴘ', 'ᴛ', 'ᴜ', 'ᵃ', 'ᵇ', 'ᵈ', 'ᵉ', 'ᵒ', 'ᵖ', 'ᵗ', 'ᵘ', 'ᵛ', 'ᶦ', 'ᶫ', 'ᶰ', 'ḱ', 'ễ', 'ツ', 'ヮ', '一', '两', '个', '为', '主', '么', '了', '人', '什', '他', '但', '你', '做', '傲', '儿', '兴', '再', '卖', '向', '呀', '呢', '咦', '咩', '啲', '喺', '地', '块', '天', '女', '她', '好', '妈', '子', '孩', '对', '小', '干', '度', '很', '感', '我', '斋', '昨', '是', '杯', '林', '果', '浮', '狗', '男', '白', '的', '真', '穷', '笑', '糖', '緊', '给', '老', '要', '说', '趣', '那', '钱', '隻', '骄', 'ﬁ', 'ﾟ']\n",
      "Special characters: ['\\x08', '\\t', '\\n', '\\r', '\\x19', '\\x1c', '\\x1d', ' ', '!', '\"', '#', '$', '%', '&', \"'\", '(', ')', '*', '+', ',', '-', '.', '/', ':', ';', '<', '=', '>', '?', '@', '[', '\\\\', ']', '^', '_', '`', '{', '|', '}', '~', '\\x92', '\\x93', '\\x94', '\\x9d', '\\xa0', '¡', '¢', '£', '¥', '«', '\\xad', '®', '¯', '°', '´', '·', '»', '¾', '¿', '×', '˙', '˚', '˜', '̕', '̖', '̗', '̘', '̙', '̛', '̜', '̝', '̞', '̟', '̠', '̡', '̢', '̣', '̤', '̥', '̦', '̧', '̨', '̩', '̪', '̫', '̬', '̭', '̮', '̯', '̰', '̱', '̲', '̳', '̴', '̵', '̶', '̷', '̸', '̹', '̺', '̻', '̼', '̀', '́', 'ͅ', '͇', '͈', '͉', '͍', '͎', '͏', '͓', '͔', '͕', '͖', '͘', '͙', '͚', '͜', '͞', '͟', '͠', '͡', '͢', '҉', '\\u2000', '\\u2009', '\\u200b', '\\u200e', '\\u200f', '–', '—', '―', '‘', '’', '‚', '“', '”', '„', '†', '•', '…', '\\u202a', '\\u202c', '′', '″', '‽', '⁄', '\\u206a', '€', '₱', '℉', '™', '⅄', '←', '↑', '→', '↓', '∀', '∆', '∑', '−', '√', '∫', '≤', '⌐', '⌘', '─', '╤', '╦', '╭', '╮', '█', '■', '□', '◊', '☀', '☝', '☞', '☹', '☺', '☼', '♡', '♥', '♦', '♨', '♪', '♫', '♭', '♻', '✂', '✈', '✌', '✏', '✓', '✔', '❤', '⟹', '⠁', '⠊', '⠙', '⠝', '⠠', '⬅', '\\u3000', '。', '「', '」', '️', '︻', '\\ufeff', '，', '：', '？', '￡', '�', '🅱', '🇧', '🇩', '🇪', '🇷', '🇸', '🇺', '🍞', '🍻', '🎤', '🎵', '🎶', '🎷', '🎺', '🏆', '🏢', '🐯', '👍', '💀', '😀', '😁', '😂', '😃', '😄', '😅', '😆', '😈', '😉', '😊', '😋', '😌', '😎', '😏', '😐', '😑', '😕', '😘', '😛', '😜', '😝', '😟', '😡', '😢', '😣', '😥', '😦', '😨', '😩', '😫', '😭', '😮', '😱', '😳', '😶', '🙂', '🙄', '🙏', '🚜', '🤓', '🤔', '🤗', '🤣', '🥁', '🦀', '🧀']\n"
     ]
    }
   ],
   "source": [
    "distinct_chars(reddit_jokes, ['Question', 'Answer'])"
   ]
  },
  {
   "cell_type": "markdown",
   "metadata": {},
   "source": [
    "## Text Preprocessing"
   ]
  },
  {
   "cell_type": "code",
   "execution_count": 27,
   "metadata": {},
   "outputs": [],
   "source": [
    "reddit_jokes = reddit_jokes.applymap(str)"
   ]
  },
  {
   "cell_type": "markdown",
   "metadata": {},
   "source": [
    "Reddit data has some special tags like <i>[removed]</i> or <i>[deleted]</i> (these two mean that the comment has been removed/deleted). Also, they're written in an inconsistent way, i.e. you may find the tag <i>[removed]</i> capitalized or lowercased.<br>\n",
    "The next function will address reddit tags as follows:\n",
    "1. Drops rows with deleted, removed or censored tags.\n",
    "2. Replaces other tags found in text with a whitespace. *(i.e. some comments have tags like <i>[censored], [gaming], [long], [request] and [dirty]</i> and we want to omit these tags from the text)*"
   ]
  },
  {
   "cell_type": "code",
   "execution_count": 28,
   "metadata": {},
   "outputs": [],
   "source": [
    "def clean_reddit_tags(data, cols):\n",
    "    \"\"\"\n",
    "    This function removes reddit-related tags from the data and does the following:\n",
    "    1. drops rows with deleted, removed or censored tags.\n",
    "    2. replaces other tags found in text with a whitespace. \n",
    "    Arguments:\n",
    "        data: a pandas dataframe.\n",
    "        cols: a Python list, representing names of columns for questions and answers. First item of the list should be the name \n",
    "        of the questions column and the second item should be the name of the column corresponding to answers.\n",
    "    Returns:\n",
    "        a pandas dataframe.\n",
    "    \"\"\"\n",
    "    \n",
    "    import re\n",
    "    \n",
    "    if cols is None:\n",
    "        cols = list(data.columns)\n",
    "    \n",
    "    # First, I'm going to lowercase all the text to address these tags \n",
    "    # however, I'm not going to alter the original dataframe because I don't want text to be lowercased.\n",
    "    data_copy = data.copy()\n",
    "    data_copy[cols[0]] = data_copy[cols[0]].str.lower()\n",
    "    data_copy[cols[1]] = data_copy[cols[1]].str.lower()\n",
    "    \n",
    "    # drop rows with deleted, removed or censored tags.\n",
    "    # qa_pair[0] is the question, qa_pair[1] is the answer\n",
    "    mask = data_copy.apply(lambda qa_pair: \n",
    "                           False if (qa_pair[0]=='[removed]') | (qa_pair[0]=='[deleted]') | (qa_pair[0]=='[censored]') |\n",
    "                           (qa_pair[1]=='[removed]') | (qa_pair[1]=='[deleted]') | (qa_pair[1]=='[censored]')\n",
    "                           else True, axis=1)\n",
    "    # drop the rows, notice we're using the mask to filter out those rows\n",
    "    # in the original dataframe 'data', because we don't need it anymore\n",
    "    data = data[mask]\n",
    "    print(f\"# of rows dropped with [deleted], [removed] or [censored] tags: {mask.sum()}\")\n",
    "    \n",
    "    # replaces other tags found in text with a whitespace. \n",
    "    def sub_tag(pair):\n",
    "        \"\"\"\n",
    "        This method substitute tags (square brackets with words inside) with whitespace.\n",
    "        Arguments:\n",
    "            pair: a Pandas Series, where the first item is the question and the second is the answer.\n",
    "        Returns:\n",
    "            pair: a Pandas Series.\n",
    "        \"\"\"\n",
    "        # \\[(.*?)\\] is a regex to recognize square brackets [] with anything in between\n",
    "        p=re.compile(\"\\[(.*?)\\]\")\n",
    "        pair[0] = re.sub(p, ' ', pair[0])\n",
    "        pair[1] = re.sub(p, ' ', pair[1])\n",
    "        \n",
    "        return pair\n",
    "    \n",
    "    # substitute tags with whitespaces.\n",
    "    data = data.apply(sub_tag, axis=1)\n",
    "    \n",
    "    return data"
   ]
  },
  {
   "cell_type": "code",
   "execution_count": 29,
   "metadata": {},
   "outputs": [
    {
     "name": "stdout",
     "output_type": "stream",
     "text": [
      "Before addressing tags:\n",
      "Question: (1825)\n",
      "How do you piss off an entire community with one word?\n",
      "Answer: (1825)\n",
      "[Deleted]\n",
      "Question: (52906)\n",
      "[Corny] What does a highlighter say when it answers the phone?\n",
      "Answer: (52906)\n",
      "Yello?\n",
      "Question: (59924)\n",
      "How do you disappoint a redditor?\n",
      "Answer: (59924)\n",
      "[removed]\n",
      "Question: (1489)\n",
      "Everything men know about women\n",
      "Answer: (1489)\n",
      "[   ]\n"
     ]
    }
   ],
   "source": [
    "print(\"Before addressing tags:\")\n",
    "print_question_answer(reddit_jokes, 1825, ['Question', 'Answer'])\n",
    "print_question_answer(reddit_jokes, 52906, ['Question', 'Answer'])\n",
    "print_question_answer(reddit_jokes, 59924, ['Question', 'Answer'])\n",
    "print_question_answer(reddit_jokes, 1489, ['Question', 'Answer'])"
   ]
  },
  {
   "cell_type": "markdown",
   "metadata": {},
   "source": [
    "**Note:** the following cell may take multiple seconds to finish."
   ]
  },
  {
   "cell_type": "code",
   "execution_count": 30,
   "metadata": {},
   "outputs": [
    {
     "name": "stdout",
     "output_type": "stream",
     "text": [
      "# of rows dropped with [deleted], [removed] or [censored] tags: 133117\n"
     ]
    }
   ],
   "source": [
    "reddit_jokes = clean_reddit_tags(reddit_jokes, ['Question', 'Answer'])"
   ]
  },
  {
   "cell_type": "code",
   "execution_count": 31,
   "metadata": {},
   "outputs": [
    {
     "data": {
      "text/html": [
       "<div>\n",
       "<style scoped>\n",
       "    .dataframe tbody tr th:only-of-type {\n",
       "        vertical-align: middle;\n",
       "    }\n",
       "\n",
       "    .dataframe tbody tr th {\n",
       "        vertical-align: top;\n",
       "    }\n",
       "\n",
       "    .dataframe thead th {\n",
       "        text-align: right;\n",
       "    }\n",
       "</style>\n",
       "<table border=\"1\" class=\"dataframe\">\n",
       "  <thead>\n",
       "    <tr style=\"text-align: right;\">\n",
       "      <th></th>\n",
       "      <th>Question</th>\n",
       "      <th>Answer</th>\n",
       "    </tr>\n",
       "  </thead>\n",
       "  <tbody>\n",
       "    <tr>\n",
       "      <th>0</th>\n",
       "      <td>I enjoy working in a slaughterhouse..</td>\n",
       "      <td>Everything is so cut and dry.</td>\n",
       "    </tr>\n",
       "    <tr>\n",
       "      <th>1</th>\n",
       "      <td>What do you call a soldier who survives Mustar...</td>\n",
       "      <td>A seasoned veteran.</td>\n",
       "    </tr>\n",
       "    <tr>\n",
       "      <th>2</th>\n",
       "      <td>I really like white dwarf stars...</td>\n",
       "      <td>...My favorite is Peter Dinklage.</td>\n",
       "    </tr>\n",
       "    <tr>\n",
       "      <th>3</th>\n",
       "      <td>Knock knock. Whose their?</td>\n",
       "      <td>The grammar police.</td>\n",
       "    </tr>\n",
       "    <tr>\n",
       "      <th>4</th>\n",
       "      <td>What breaks when you give it to a twelve year ...</td>\n",
       "      <td>Her hips.</td>\n",
       "    </tr>\n",
       "    <tr>\n",
       "      <th>...</th>\n",
       "      <td>...</td>\n",
       "      <td>...</td>\n",
       "    </tr>\n",
       "    <tr>\n",
       "      <th>133323</th>\n",
       "      <td>Today a girl kissed me.</td>\n",
       "      <td>I wish I could post it in another subreddit.</td>\n",
       "    </tr>\n",
       "    <tr>\n",
       "      <th>133324</th>\n",
       "      <td>The millennium is now legal.</td>\n",
       "      <td>Who wants to be the first person to fuck time ...</td>\n",
       "    </tr>\n",
       "    <tr>\n",
       "      <th>133325</th>\n",
       "      <td>I haven't   since last year.</td>\n",
       "      <td>(obligatory)</td>\n",
       "    </tr>\n",
       "    <tr>\n",
       "      <th>133326</th>\n",
       "      <td>A 17 year old male walks into a drug store...</td>\n",
       "      <td>A 17 year old male walks into a drug store. He...</td>\n",
       "    </tr>\n",
       "    <tr>\n",
       "      <th>133327</th>\n",
       "      <td>Is this sub dead?</td>\n",
       "      <td>I haven’t seen any posts all year</td>\n",
       "    </tr>\n",
       "  </tbody>\n",
       "</table>\n",
       "<p>133117 rows × 2 columns</p>\n",
       "</div>"
      ],
      "text/plain": [
       "                                                 Question  \\\n",
       "0                   I enjoy working in a slaughterhouse..   \n",
       "1       What do you call a soldier who survives Mustar...   \n",
       "2                      I really like white dwarf stars...   \n",
       "3                               Knock knock. Whose their?   \n",
       "4       What breaks when you give it to a twelve year ...   \n",
       "...                                                   ...   \n",
       "133323                            Today a girl kissed me.   \n",
       "133324                       The millennium is now legal.   \n",
       "133325                       I haven't   since last year.   \n",
       "133326      A 17 year old male walks into a drug store...   \n",
       "133327                                  Is this sub dead?   \n",
       "\n",
       "                                                   Answer  \n",
       "0                           Everything is so cut and dry.  \n",
       "1                                    A seasoned veteran.   \n",
       "2                      ...My favorite is Peter Dinklage.   \n",
       "3                                     The grammar police.  \n",
       "4                                              Her hips.   \n",
       "...                                                   ...  \n",
       "133323       I wish I could post it in another subreddit.  \n",
       "133324  Who wants to be the first person to fuck time ...  \n",
       "133325                                       (obligatory)  \n",
       "133326  A 17 year old male walks into a drug store. He...  \n",
       "133327                  I haven’t seen any posts all year  \n",
       "\n",
       "[133117 rows x 2 columns]"
      ]
     },
     "execution_count": 31,
     "metadata": {},
     "output_type": "execute_result"
    }
   ],
   "source": [
    "reddit_jokes"
   ]
  },
  {
   "cell_type": "code",
   "execution_count": 32,
   "metadata": {
    "scrolled": true
   },
   "outputs": [
    {
     "name": "stdout",
     "output_type": "stream",
     "text": [
      "After addressing tags:\n",
      "Question: (52906)\n",
      "  What does a highlighter say when it answers the phone?\n",
      "Answer: (52906)\n",
      "Yello?\n",
      "Question: (1489)\n",
      "Everything men know about women\n",
      "Answer: (1489)\n",
      " \n"
     ]
    }
   ],
   "source": [
    "print(\"After addressing tags:\")\n",
    "# because rows with [removed], [deleted] and [censored] tags have been dropped\n",
    "# we're not going to print the rows (index=1825, index=59924) since they contain \n",
    "# those tags, or we're going to have a KeyError\n",
    "print_question_answer(reddit_jokes, 52906, ['Question', 'Answer'])\n",
    "print_question_answer(reddit_jokes, 1489, ['Question', 'Answer'])"
   ]
  },
  {
   "cell_type": "markdown",
   "metadata": {},
   "source": [
    "**Note:** notice the question whose index is 52906, has some leading whitespaces. That's because it had the <i>[Corny]</i> tag and the function replaced it with whitespaces. Also, the question whose index is 1489 has an empty answer and that's because of the fact that the original answer just square brackets with some whitespaces in between. We're going to address all of that next!"
   ]
  },
  {
   "cell_type": "markdown",
   "metadata": {},
   "source": [
    "Now, let's apply the *clean_text* function on the reddit data.<br>\n",
    "**Remember:** the *clean_text* function replaces some characters with others, removes unwanted characters and gets rid of extra whitespaces from the data."
   ]
  },
  {
   "cell_type": "code",
   "execution_count": 33,
   "metadata": {},
   "outputs": [],
   "source": [
    "reddit_jokes = reddit_jokes.applymap(clean_text)"
   ]
  },
  {
   "cell_type": "code",
   "execution_count": 34,
   "metadata": {},
   "outputs": [
    {
     "name": "stdout",
     "output_type": "stream",
     "text": [
      "Question: (52906)\n",
      "what does a highlighter say when it answers the phone ?\n",
      "Answer: (52906)\n",
      "yello ?\n",
      "Question: (1489)\n",
      "everything men know about women\n",
      "Answer: (1489)\n",
      "\n"
     ]
    }
   ],
   "source": [
    "print_question_answer(reddit_jokes, 52906, ['Question', 'Answer'])\n",
    "print_question_answer(reddit_jokes, 1489, ['Question', 'Answer'])"
   ]
  },
  {
   "cell_type": "markdown",
   "metadata": {},
   "source": [
    "Everything looks good!<br>\n",
    "Now, let's apply the *preprocess_data* function on the data.<br>\n",
    "**Remember:** the *preprocess_data* function applies the following preprocessing operations:\n",
    "1. Drops unecessary duplicate pairs (rows) but keep only one instance of all duplicates. *(For example, if the dataset contains three duplicates of the same question-answer pair, then two of them would be removed and one kept.)*\n",
    "2. Drops rows with empty question/answer. *(These may appear because of the previous step or because they happen to be empty in the original dataset) *\n",
    "3. Drops rows with more than 30 words in either the question or the answer or if the an answer has less than two characters. *(Note: this is a hyperparameter and you can try other values.)*"
   ]
  },
  {
   "cell_type": "code",
   "execution_count": 35,
   "metadata": {},
   "outputs": [
    {
     "name": "stdout",
     "output_type": "stream",
     "text": [
      "Removing unecessary duplicate pairs:\n",
      "# of examples before removing duplicates: 133117\n",
      "# of examples after removing duplicates: 128036\n",
      "# of removed duplicates: 5081\n",
      "Removing empty string rows:\n",
      "# of examples before removing rows with empty question/answers: 128036\n",
      "# of examples after removing with empty question/answers: 127946\n",
      "# of removed empty string rows: 90\n",
      "Removing rows with more than 30 words in either the question or the answer:\n",
      "# of examples before removing rows with more than 30 words: 127946\n",
      "# of examples after removing rows with more than 30 words: 89001\n",
      "# of removed empty rows with more than 30 words: 38945\n",
      "Data preprocessing is done.\n"
     ]
    }
   ],
   "source": [
    "reddit_jokes = preprocess_data(reddit_jokes, ['Question', 'Answer'])"
   ]
  },
  {
   "cell_type": "code",
   "execution_count": 36,
   "metadata": {},
   "outputs": [
    {
     "name": "stdout",
     "output_type": "stream",
     "text": [
      "Number of question answer pairs in the reddit /r/Jokes dataset: 89001\n"
     ]
    }
   ],
   "source": [
    "print(f\"Number of question answer pairs in the reddit /r/Jokes dataset: {len(reddit_jokes)}\")"
   ]
  },
  {
   "cell_type": "code",
   "execution_count": 37,
   "metadata": {},
   "outputs": [
    {
     "name": "stdout",
     "output_type": "stream",
     "text": [
      "Number of distinct characters used in the dataset: 56\n",
      "Digits: ['0', '1', '2', '3', '4', '5', '6', '7', '8', '9']\n",
      "Alphabets: ['a', 'b', 'c', 'd', 'e', 'f', 'g', 'h', 'i', 'j', 'k', 'l', 'm', 'n', 'o', 'p', 'q', 'r', 's', 't', 'u', 'v', 'w', 'x', 'y', 'z']\n",
      "Special characters: [' ', '!', '$', '%', '&', \"'\", '(', ')', '*', '+', ',', '-', '.', '/', ':', ';', '=', '?', '@', '_']\n"
     ]
    }
   ],
   "source": [
    "distinct_chars(reddit_jokes, ['Question', 'Answer'])"
   ]
  },
  {
   "cell_type": "markdown",
   "metadata": {},
   "source": [
    "# Third Dataset\n",
    "**Question-Answer Jokes**, [here](https://www.kaggle.com/jiriroz/qa-jokes).\n",
    "\n",
    "This dataset consists of one file, namely:\n",
    "* <i>jokes_score_name_clean.csv</i>: with <i>38,269</i> pairs."
   ]
  },
  {
   "cell_type": "code",
   "execution_count": 38,
   "metadata": {},
   "outputs": [
    {
     "data": {
      "text/html": [
       "<div>\n",
       "<style scoped>\n",
       "    .dataframe tbody tr th:only-of-type {\n",
       "        vertical-align: middle;\n",
       "    }\n",
       "\n",
       "    .dataframe tbody tr th {\n",
       "        vertical-align: top;\n",
       "    }\n",
       "\n",
       "    .dataframe thead th {\n",
       "        text-align: right;\n",
       "    }\n",
       "</style>\n",
       "<table border=\"1\" class=\"dataframe\">\n",
       "  <thead>\n",
       "    <tr style=\"text-align: right;\">\n",
       "      <th></th>\n",
       "      <th>Question</th>\n",
       "      <th>Answer</th>\n",
       "    </tr>\n",
       "  </thead>\n",
       "  <tbody>\n",
       "    <tr>\n",
       "      <th>0</th>\n",
       "      <td>Did you hear about the Native American man tha...</td>\n",
       "      <td>He nearly drown in his own tea pee.</td>\n",
       "    </tr>\n",
       "    <tr>\n",
       "      <th>1</th>\n",
       "      <td>What's the best anti diarrheal prescription?</td>\n",
       "      <td>Mycheexarphlexin</td>\n",
       "    </tr>\n",
       "    <tr>\n",
       "      <th>2</th>\n",
       "      <td>What do you call a person who is outside a doo...</td>\n",
       "      <td>Matt</td>\n",
       "    </tr>\n",
       "    <tr>\n",
       "      <th>3</th>\n",
       "      <td>Which Star Trek character is a member of the m...</td>\n",
       "      <td>Jean-Luc Pickacard</td>\n",
       "    </tr>\n",
       "    <tr>\n",
       "      <th>4</th>\n",
       "      <td>What's the difference between a bullet and a h...</td>\n",
       "      <td>A bullet doesn't miss Harambe</td>\n",
       "    </tr>\n",
       "    <tr>\n",
       "      <th>...</th>\n",
       "      <td>...</td>\n",
       "      <td>...</td>\n",
       "    </tr>\n",
       "    <tr>\n",
       "      <th>38264</th>\n",
       "      <td>Q: Why did the pacifist /b/tard try to calm ev...</td>\n",
       "      <td>He did it for the</td>\n",
       "    </tr>\n",
       "    <tr>\n",
       "      <th>38265</th>\n",
       "      <td>Q: Why can't Obama poke fun at himself?</td>\n",
       "      <td>A: Because that would be racist.</td>\n",
       "    </tr>\n",
       "    <tr>\n",
       "      <th>38266</th>\n",
       "      <td>Why is gambling not allowed in Africa?</td>\n",
       "      <td>Because there are too many cheetahs.</td>\n",
       "    </tr>\n",
       "    <tr>\n",
       "      <th>38267</th>\n",
       "      <td>What do you call three witches in a hot tub?</td>\n",
       "      <td>A self-cleaning coven.</td>\n",
       "    </tr>\n",
       "    <tr>\n",
       "      <th>38268</th>\n",
       "      <td>What do scientists use to measure a chicken's ...</td>\n",
       "      <td>An egg timer</td>\n",
       "    </tr>\n",
       "  </tbody>\n",
       "</table>\n",
       "<p>38269 rows × 2 columns</p>\n",
       "</div>"
      ],
      "text/plain": [
       "                                                Question  \\\n",
       "0      Did you hear about the Native American man tha...   \n",
       "1           What's the best anti diarrheal prescription?   \n",
       "2      What do you call a person who is outside a doo...   \n",
       "3      Which Star Trek character is a member of the m...   \n",
       "4      What's the difference between a bullet and a h...   \n",
       "...                                                  ...   \n",
       "38264  Q: Why did the pacifist /b/tard try to calm ev...   \n",
       "38265            Q: Why can't Obama poke fun at himself?   \n",
       "38266             Why is gambling not allowed in Africa?   \n",
       "38267       What do you call three witches in a hot tub?   \n",
       "38268  What do scientists use to measure a chicken's ...   \n",
       "\n",
       "                                     Answer  \n",
       "0       He nearly drown in his own tea pee.  \n",
       "1                          Mycheexarphlexin  \n",
       "2                                      Matt  \n",
       "3                        Jean-Luc Pickacard  \n",
       "4             A bullet doesn't miss Harambe  \n",
       "...                                     ...  \n",
       "38264                    He did it for the   \n",
       "38265     A: Because that would be racist.   \n",
       "38266  Because there are too many cheetahs.  \n",
       "38267                A self-cleaning coven.  \n",
       "38268                          An egg timer  \n",
       "\n",
       "[38269 rows x 2 columns]"
      ]
     },
     "execution_count": 38,
     "metadata": {},
     "output_type": "execute_result"
    }
   ],
   "source": [
    "qa_jokes = pd.read_csv(files_path + 'jokes.csv', usecols=['Question', 'Answer'])\n",
    "qa_jokes"
   ]
  },
  {
   "cell_type": "code",
   "execution_count": 39,
   "metadata": {},
   "outputs": [
    {
     "name": "stdout",
     "output_type": "stream",
     "text": [
      "38269\n"
     ]
    }
   ],
   "source": [
    "print(len(qa_jokes))"
   ]
  },
  {
   "cell_type": "code",
   "execution_count": 40,
   "metadata": {},
   "outputs": [
    {
     "name": "stdout",
     "output_type": "stream",
     "text": [
      "Number of distinct characters used in the dataset: 237\n",
      "Digits: ['0', '1', '2', '3', '4', '5', '6', '7', '8', '9', '³', '౪', '₄']\n",
      "Alphabets: ['A', 'B', 'C', 'D', 'E', 'F', 'G', 'H', 'I', 'J', 'K', 'L', 'M', 'N', 'O', 'P', 'Q', 'R', 'S', 'T', 'U', 'V', 'W', 'X', 'Y', 'Z', 'a', 'b', 'c', 'd', 'e', 'f', 'g', 'h', 'i', 'j', 'k', 'l', 'm', 'n', 'o', 'p', 'q', 'r', 's', 't', 'u', 'v', 'w', 'x', 'y', 'z', 'È', 'É', 'Ñ', 'ß', 'á', 'ä', 'å', 'æ', 'è', 'é', 'ê', 'ì', 'í', 'î', 'ï', 'ñ', 'ò', 'ó', 'õ', 'ö', 'ø', 'ù', 'ú', 'û', 'ü', 'Đ', 'ı', 'ō', 'œ', 'ʃ', 'ʅ', 'ʖ', 'Α', 'Μ', 'Ω', 'ά', 'ε', 'ζ', 'η', 'θ', 'κ', 'μ', 'π', 'ρ', 'ς', 'С', 'б', 'е', 'и', 'н', 'р', 'т', 'ь', 'ॐ', 'ಠ', 'ứ', 'づ', 'ツ', '丁', '二', '喲', '媽', '崇', '常', '清', '胖', '董', '這', '麼', '빵']\n",
      "Special characters: [' ', '!', '\"', '#', '$', '%', '&', \"'\", '(', ')', '*', '+', ',', '-', '.', '/', ':', ';', '<', '=', '>', '?', '@', '[', '\\\\', ']', '^', '_', '`', '{', '|', '}', '~', '\\xa0', '¡', '£', '¤', '©', '«', '¬', '\\xad', '®', '¯', '°', '´', '·', '»', '¿', '×', '̨', '̸', '͜', '͡', '\\u200a', '\\u200b', '\\u200e', '–', '—', '‘', '’', '“', '”', '•', '…', '\\u202a', '€', '™', '−', '√', '∞', '∫', '≠', '⌐', '─', '╤', '╦', '■', '◔', '♪', '⚡', '✈', '✏', '➕', '️', '︻', '\\ufeff', '，', '🎺', '🏢', '👌', '👍', '💩', '😀', '😂', '😃', '😆', '😏', '😔', '😜', '😳', '🙇', '🤘']\n"
     ]
    }
   ],
   "source": [
    "distinct_chars(qa_jokes, ['Question', 'Answer'])"
   ]
  },
  {
   "cell_type": "markdown",
   "metadata": {},
   "source": [
    "## Text Preprocessing"
   ]
  },
  {
   "cell_type": "markdown",
   "metadata": {},
   "source": [
    "If you look at some examples in the dataset, you notice that some examples has 'Q:' at beginning of the question and 'A:' at the beginning of the answer, so we need to get rid of these prefixes because they don't convey useful information.<br>\n",
    "You also notice some examples where both 'Q:' and 'A:' are found in either the question or the answer, although I'm not going to omit these because they probably convey information and are part of the answer. However, some of them have 'Q:' in the question and 'Q: question A: answer' where the question in the answer is the same question, so we need to fix that."
   ]
  },
  {
   "cell_type": "code",
   "execution_count": 41,
   "metadata": {},
   "outputs": [],
   "source": [
    "def clean_qa_prefixes(data, cols):\n",
    "    \"\"\"\n",
    "    This function removes special prefixes ('Q:' and 'A:') found in the data.\n",
    "    i.e. input=\"Q: how's your day?\" --> output=\" how's your day?\"\n",
    "    Arguments:\n",
    "        data: a pandas dataframe.\n",
    "        cols: a Python list, representing names of columns for questions and answers. First item of the list should be the name \n",
    "        of the questions column and the second item should be the name of the column corresponding to answers.\n",
    "    Returns:\n",
    "        a pandas dataframe.\n",
    "    \"\"\"\n",
    "    def removes_prefixes(pair):\n",
    "        \"\"\"\n",
    "        This function removes prefixes ('Q:' and 'A:') from the question and answer.\n",
    "        Examples:\n",
    "        Input: qusetion=\"Q: what is your favorite Space movie?\", answer='A: Interstellar!'\n",
    "        Output: qusetion=' what is your favorite Space movie?', answer=' Interstellar!'\n",
    "        Input: question=\"Q: how\\'s your day?\", answer='Q: how\\'s your day? A: good, thanks.'\n",
    "        Output: qusetion=\" how's your day?\", answer='good, thanks.'\n",
    "        Input: qusetion='How old are you?', answer='old enough'\n",
    "        Output: qusetion='How old are you?', answer='old enough'\n",
    "        Arguments:\n",
    "            pair: a Pandas Series, where the first item is the question and the second is the answer.\n",
    "        Returns:\n",
    "            pair: a Pandas Series.\n",
    "        \"\"\"\n",
    "        # pair[0] corresponds to the question\n",
    "        # pair[1] corresponds to the answer\n",
    "        # if the question contains 'Q:' and the answer contains 'A:' but doesn't contain 'Q:'\n",
    "        if ('Q:' in pair[0]) and ('A:' in pair[1]) and ('Q:' not in pair[1]):\n",
    "            pair[0] = pair[0].replace('Q:','')\n",
    "            pair[1] = pair[1].replace('A:','')\n",
    "        # if the answer contains both 'Q:' and 'A:'\n",
    "        elif ('A:' in pair[1]) and ('Q:' in pair[1]):\n",
    "            pair[0] = pair[0].replace('Q:','')\n",
    "            # now we should check if the text between 'Q:' and 'A:' is the same text in the question (pair[0])\n",
    "            # because if they are, this means that the question is repeated in the answer and we should address that.\n",
    "            q_start = pair[1].find('Q:') + 2 # index of the start of the text that we want to extract\n",
    "            q_end = pair[1].find('A:') # index of the end of the text that we want to extract\n",
    "            q_txt = pair[1][q_start:q_end].strip()\n",
    "            # if the question is repeated in the answer\n",
    "            if q_txt == pair[0].strip():\n",
    "                # in case the question is repeated in the answer, removes it from the answer\n",
    "                pair[1] = pair[1][q_end+2:].strip()\n",
    "            \n",
    "        return pair\n",
    "        \n",
    "    return data.apply(removes_prefixes, axis=1)"
   ]
  },
  {
   "cell_type": "code",
   "execution_count": 42,
   "metadata": {
    "scrolled": true
   },
   "outputs": [
    {
     "name": "stdout",
     "output_type": "stream",
     "text": [
      "Before removing unnecessary prefixes:\n",
      "Question: (44)\n",
      "Q: What did the left leg say to the right leg?\n",
      "Answer: (44)\n",
      "A: That one in the middle thinks he's hard.\n",
      "Question: (22)\n",
      "Why does Santa have three gardens?\n",
      "Answer: (22)\n",
      "Q: Why does Santa have three gardens? A: So he can \"hoe, hoe, hoe.\"\n",
      "Question: (31867)\n",
      "What is your favorite joke about women?\n",
      "Answer: (31867)\n",
      "Q: Why don't women wear watches? A: Because there is a clock on the stove.\n"
     ]
    }
   ],
   "source": [
    "print(\"Before removing unnecessary prefixes:\")\n",
    "print_question_answer(qa_jokes, 44, ['Question', 'Answer'])\n",
    "print_question_answer(qa_jokes, 22, ['Question', 'Answer'])\n",
    "print_question_answer(qa_jokes, 31867, ['Question', 'Answer'])"
   ]
  },
  {
   "cell_type": "code",
   "execution_count": 43,
   "metadata": {},
   "outputs": [],
   "source": [
    "qa_jokes = clean_qa_prefixes(qa_jokes, ['Question', 'Answer'])"
   ]
  },
  {
   "cell_type": "code",
   "execution_count": 44,
   "metadata": {},
   "outputs": [
    {
     "name": "stdout",
     "output_type": "stream",
     "text": [
      "After removing unnecessary prefixes:\n",
      "Question: (44)\n",
      " What did the left leg say to the right leg?\n",
      "Answer: (44)\n",
      " That one in the middle thinks he's hard.\n",
      "Question: (22)\n",
      "Why does Santa have three gardens?\n",
      "Answer: (22)\n",
      "So he can \"hoe, hoe, hoe.\"\n",
      "Question: (31867)\n",
      "What is your favorite joke about women?\n",
      "Answer: (31867)\n",
      "Q: Why don't women wear watches? A: Because there is a clock on the stove.\n"
     ]
    }
   ],
   "source": [
    "print(\"After removing unnecessary prefixes:\")\n",
    "print_question_answer(qa_jokes, 44, ['Question', 'Answer'])\n",
    "print_question_answer(qa_jokes, 22, ['Question', 'Answer'])\n",
    "print_question_answer(qa_jokes, 31867, ['Question', 'Answer'])"
   ]
  },
  {
   "cell_type": "markdown",
   "metadata": {},
   "source": [
    "Notice that the third example both 'Q:' and 'A:' are part of the answer and conveys information."
   ]
  },
  {
   "cell_type": "markdown",
   "metadata": {},
   "source": [
    "Now, let's apply the *clean_text* function on the Question-Answer Jokes data.<br>\n",
    "**Remember:** the *clean_text* function replaces some characters with others, removes unwanted characters and gets rid of extra whitespaces from the data."
   ]
  },
  {
   "cell_type": "code",
   "execution_count": 45,
   "metadata": {},
   "outputs": [],
   "source": [
    "qa_jokes = qa_jokes.applymap(clean_text)"
   ]
  },
  {
   "cell_type": "markdown",
   "metadata": {},
   "source": [
    "Now, let's apply the *preprocess_data* function on the data.<br>\n",
    "**Remember:** the *preprocess_data* function applies the following preprocessing operations:\n",
    "1. Drops unnecessary duplicate pairs (rows) but keep only one instance of all duplicates. *(For example, if the dataset contains three duplicates of the same question-answer pair, then two of them would be removed and one kept.)*\n",
    "2. Drops rows with an empty question/answer. *(These may appear because of the previous step or because they happen to be empty in the original dataset) *\n",
    "3. Drops rows with more than 30 words in either the question or the answer or if the an answer has less than two characters. *(Note: this is a hyperparameter and you can try other values.)*"
   ]
  },
  {
   "cell_type": "code",
   "execution_count": 46,
   "metadata": {},
   "outputs": [
    {
     "name": "stdout",
     "output_type": "stream",
     "text": [
      "Removing unecessary duplicate pairs:\n",
      "# of examples before removing duplicates: 38269\n",
      "# of examples after removing duplicates: 38187\n",
      "# of removed duplicates: 82\n",
      "Removing empty string rows:\n",
      "# of examples before removing rows with empty question/answers: 38187\n",
      "# of examples after removing with empty question/answers: 38166\n",
      "# of removed empty string rows: 21\n",
      "Removing rows with more than 30 words in either the question or the answer:\n",
      "# of examples before removing rows with more than 30 words: 38166\n",
      "# of examples after removing rows with more than 30 words: 37086\n",
      "# of removed empty rows with more than 30 words: 1080\n",
      "Data preprocessing is done.\n"
     ]
    }
   ],
   "source": [
    "qa_jokes = preprocess_data(qa_jokes, ['Question', 'Answer'])"
   ]
  },
  {
   "cell_type": "code",
   "execution_count": 47,
   "metadata": {},
   "outputs": [
    {
     "name": "stdout",
     "output_type": "stream",
     "text": [
      "Number of question-answer pairs in the Question-Answer Jokes dataset: 37086\n"
     ]
    }
   ],
   "source": [
    "print(f\"Number of question-answer pairs in the Question-Answer Jokes dataset: {len(qa_jokes)}\")"
   ]
  },
  {
   "cell_type": "code",
   "execution_count": 48,
   "metadata": {},
   "outputs": [
    {
     "name": "stdout",
     "output_type": "stream",
     "text": [
      "Number of distinct characters used in the dataset: 56\n",
      "Digits: ['0', '1', '2', '3', '4', '5', '6', '7', '8', '9']\n",
      "Alphabets: ['a', 'b', 'c', 'd', 'e', 'f', 'g', 'h', 'i', 'j', 'k', 'l', 'm', 'n', 'o', 'p', 'q', 'r', 's', 't', 'u', 'v', 'w', 'x', 'y', 'z']\n",
      "Special characters: [' ', '!', '$', '%', '&', \"'\", '(', ')', '*', '+', ',', '-', '.', '/', ':', ';', '=', '?', '@', '_']\n"
     ]
    }
   ],
   "source": [
    "distinct_chars(qa_jokes, ['Question', 'Answer'])"
   ]
  },
  {
   "cell_type": "markdown",
   "metadata": {},
   "source": [
    "# Putting it together\n",
    "\n",
    "Let's concatenate all the data we have to create our final dataset."
   ]
  },
  {
   "cell_type": "code",
   "execution_count": 49,
   "metadata": {},
   "outputs": [
    {
     "data": {
      "text/html": [
       "<div>\n",
       "<style scoped>\n",
       "    .dataframe tbody tr th:only-of-type {\n",
       "        vertical-align: middle;\n",
       "    }\n",
       "\n",
       "    .dataframe tbody tr th {\n",
       "        vertical-align: top;\n",
       "    }\n",
       "\n",
       "    .dataframe thead th {\n",
       "        text-align: right;\n",
       "    }\n",
       "</style>\n",
       "<table border=\"1\" class=\"dataframe\">\n",
       "  <thead>\n",
       "    <tr style=\"text-align: right;\">\n",
       "      <th></th>\n",
       "      <th>Question</th>\n",
       "      <th>Answer</th>\n",
       "    </tr>\n",
       "  </thead>\n",
       "  <tbody>\n",
       "    <tr>\n",
       "      <th>0</th>\n",
       "      <td>what ' s the best anti diarrheal prescription ?</td>\n",
       "      <td>mycheexarphlexin</td>\n",
       "    </tr>\n",
       "    <tr>\n",
       "      <th>1</th>\n",
       "      <td>what do you call a person who is outside a doo...</td>\n",
       "      <td>matt</td>\n",
       "    </tr>\n",
       "    <tr>\n",
       "      <th>2</th>\n",
       "      <td>which star trek character is a member of the m...</td>\n",
       "      <td>jean - luc pickacard</td>\n",
       "    </tr>\n",
       "    <tr>\n",
       "      <th>3</th>\n",
       "      <td>what ' s the difference between a bullet and a...</td>\n",
       "      <td>a bullet doesn ' t miss harambe</td>\n",
       "    </tr>\n",
       "    <tr>\n",
       "      <th>4</th>\n",
       "      <td>why was the ethiopian baby crying ?</td>\n",
       "      <td>he was having a mid - life crisis</td>\n",
       "    </tr>\n",
       "  </tbody>\n",
       "</table>\n",
       "</div>"
      ],
      "text/plain": [
       "                                            Question  \\\n",
       "0    what ' s the best anti diarrheal prescription ?   \n",
       "1  what do you call a person who is outside a doo...   \n",
       "2  which star trek character is a member of the m...   \n",
       "3  what ' s the difference between a bullet and a...   \n",
       "4                why was the ethiopian baby crying ?   \n",
       "\n",
       "                              Answer  \n",
       "0                   mycheexarphlexin  \n",
       "1                               matt  \n",
       "2               jean - luc pickacard  \n",
       "3    a bullet doesn ' t miss harambe  \n",
       "4  he was having a mid - life crisis  "
      ]
     },
     "execution_count": 49,
     "metadata": {},
     "output_type": "execute_result"
    }
   ],
   "source": [
    "dataset = pd.concat([wordball, reddit_jokes, qa_jokes], ignore_index=True)\n",
    "dataset.head()"
   ]
  },
  {
   "cell_type": "code",
   "execution_count": 50,
   "metadata": {},
   "outputs": [
    {
     "name": "stdout",
     "output_type": "stream",
     "text": [
      "Number of question-answer pairs in the dataset: 227799\n"
     ]
    }
   ],
   "source": [
    "print(f\"Number of question-answer pairs in the dataset: {len(dataset)}\")"
   ]
  },
  {
   "cell_type": "markdown",
   "metadata": {},
   "source": [
    "There may be duplicate examples in the data so let's drop them:"
   ]
  },
  {
   "cell_type": "code",
   "execution_count": 51,
   "metadata": {},
   "outputs": [
    {
     "name": "stdout",
     "output_type": "stream",
     "text": [
      "# of examples before removing duplicates: 227799\n",
      "# of examples after removing duplicates: 175671\n",
      "# of removed duplicates: 52128\n"
     ]
    }
   ],
   "source": [
    "data_len_before = len(dataset) # len of data before removing duplicates\n",
    "print(f\"# of examples before removing duplicates: {data_len_before}\")\n",
    "# drop duplicates\n",
    "dataset = dataset.drop_duplicates(keep='first')\n",
    "data_len_after = len(dataset) # len of data after removing duplicates\n",
    "print(f\"# of examples after removing duplicates: {data_len_after}\")\n",
    "print(f\"# of removed duplicates: {data_len_before-data_len_after}\")"
   ]
  },
  {
   "cell_type": "markdown",
   "metadata": {},
   "source": [
    "Let's drop rows with NaN values if there's any:"
   ]
  },
  {
   "cell_type": "code",
   "execution_count": 52,
   "metadata": {},
   "outputs": [],
   "source": [
    "dataset.dropna(inplace=True)"
   ]
  },
  {
   "cell_type": "code",
   "execution_count": 53,
   "metadata": {},
   "outputs": [
    {
     "data": {
      "text/html": [
       "<div>\n",
       "<style scoped>\n",
       "    .dataframe tbody tr th:only-of-type {\n",
       "        vertical-align: middle;\n",
       "    }\n",
       "\n",
       "    .dataframe tbody tr th {\n",
       "        vertical-align: top;\n",
       "    }\n",
       "\n",
       "    .dataframe thead th {\n",
       "        text-align: right;\n",
       "    }\n",
       "</style>\n",
       "<table border=\"1\" class=\"dataframe\">\n",
       "  <thead>\n",
       "    <tr style=\"text-align: right;\">\n",
       "      <th></th>\n",
       "      <th>Question</th>\n",
       "      <th>Answer</th>\n",
       "    </tr>\n",
       "  </thead>\n",
       "  <tbody>\n",
       "    <tr>\n",
       "      <th>0</th>\n",
       "      <td>what ' s the best anti diarrheal prescription ?</td>\n",
       "      <td>mycheexarphlexin</td>\n",
       "    </tr>\n",
       "    <tr>\n",
       "      <th>1</th>\n",
       "      <td>what do you call a person who is outside a doo...</td>\n",
       "      <td>matt</td>\n",
       "    </tr>\n",
       "    <tr>\n",
       "      <th>2</th>\n",
       "      <td>which star trek character is a member of the m...</td>\n",
       "      <td>jean - luc pickacard</td>\n",
       "    </tr>\n",
       "    <tr>\n",
       "      <th>3</th>\n",
       "      <td>what ' s the difference between a bullet and a...</td>\n",
       "      <td>a bullet doesn ' t miss harambe</td>\n",
       "    </tr>\n",
       "    <tr>\n",
       "      <th>4</th>\n",
       "      <td>why was the ethiopian baby crying ?</td>\n",
       "      <td>he was having a mid - life crisis</td>\n",
       "    </tr>\n",
       "    <tr>\n",
       "      <th>...</th>\n",
       "      <td>...</td>\n",
       "      <td>...</td>\n",
       "    </tr>\n",
       "    <tr>\n",
       "      <th>227779</th>\n",
       "      <td>how many surrealists does it take to change a ...</td>\n",
       "      <td>fish .</td>\n",
       "    </tr>\n",
       "    <tr>\n",
       "      <th>227784</th>\n",
       "      <td>here ' s a joke just for reddit : how many nar...</td>\n",
       "      <td>bacon</td>\n",
       "    </tr>\n",
       "    <tr>\n",
       "      <th>227786</th>\n",
       "      <td>what do you get when you combine a comedian an...</td>\n",
       "      <td>a brofl</td>\n",
       "    </tr>\n",
       "    <tr>\n",
       "      <th>227794</th>\n",
       "      <td>q : why did the pacifist / b / tard try to cal...</td>\n",
       "      <td>he did it for the</td>\n",
       "    </tr>\n",
       "    <tr>\n",
       "      <th>227795</th>\n",
       "      <td>why can ' t obama poke fun at himself ?</td>\n",
       "      <td>because that would be racist .</td>\n",
       "    </tr>\n",
       "  </tbody>\n",
       "</table>\n",
       "<p>175671 rows × 2 columns</p>\n",
       "</div>"
      ],
      "text/plain": [
       "                                                 Question  \\\n",
       "0         what ' s the best anti diarrheal prescription ?   \n",
       "1       what do you call a person who is outside a doo...   \n",
       "2       which star trek character is a member of the m...   \n",
       "3       what ' s the difference between a bullet and a...   \n",
       "4                     why was the ethiopian baby crying ?   \n",
       "...                                                   ...   \n",
       "227779  how many surrealists does it take to change a ...   \n",
       "227784  here ' s a joke just for reddit : how many nar...   \n",
       "227786  what do you get when you combine a comedian an...   \n",
       "227794  q : why did the pacifist / b / tard try to cal...   \n",
       "227795            why can ' t obama poke fun at himself ?   \n",
       "\n",
       "                                   Answer  \n",
       "0                        mycheexarphlexin  \n",
       "1                                    matt  \n",
       "2                    jean - luc pickacard  \n",
       "3         a bullet doesn ' t miss harambe  \n",
       "4       he was having a mid - life crisis  \n",
       "...                                   ...  \n",
       "227779                             fish .  \n",
       "227784                              bacon  \n",
       "227786                            a brofl  \n",
       "227794                  he did it for the  \n",
       "227795     because that would be racist .  \n",
       "\n",
       "[175671 rows x 2 columns]"
      ]
     },
     "execution_count": 53,
     "metadata": {},
     "output_type": "execute_result"
    }
   ],
   "source": [
    "dataset"
   ]
  },
  {
   "cell_type": "markdown",
   "metadata": {},
   "source": [
    "Let's make sure that all our cells are of the same type:"
   ]
  },
  {
   "cell_type": "code",
   "execution_count": 54,
   "metadata": {},
   "outputs": [],
   "source": [
    "dataset = dataset.applymap(str)"
   ]
  },
  {
   "cell_type": "code",
   "execution_count": 55,
   "metadata": {},
   "outputs": [
    {
     "name": "stdout",
     "output_type": "stream",
     "text": [
      "Number of question-answer pairs in the dataset: 175671\n"
     ]
    }
   ],
   "source": [
    "print(f\"Number of question-answer pairs in the dataset: {len(dataset)}\")"
   ]
  },
  {
   "cell_type": "code",
   "execution_count": 56,
   "metadata": {},
   "outputs": [
    {
     "name": "stdout",
     "output_type": "stream",
     "text": [
      "Number of distinct characters used in the dataset: 56\n",
      "Digits: ['0', '1', '2', '3', '4', '5', '6', '7', '8', '9']\n",
      "Alphabets: ['a', 'b', 'c', 'd', 'e', 'f', 'g', 'h', 'i', 'j', 'k', 'l', 'm', 'n', 'o', 'p', 'q', 'r', 's', 't', 'u', 'v', 'w', 'x', 'y', 'z']\n",
      "Special characters: [' ', '!', '$', '%', '&', \"'\", '(', ')', '*', '+', ',', '-', '.', '/', ':', ';', '=', '?', '@', '_']\n"
     ]
    }
   ],
   "source": [
    "distinct_chars(dataset, ['Question', 'Answer'])"
   ]
  },
  {
   "cell_type": "markdown",
   "metadata": {},
   "source": [
    "Finally, let's save the dataset:"
   ]
  },
  {
   "cell_type": "code",
   "execution_count": 57,
   "metadata": {},
   "outputs": [],
   "source": [
    "dataset.to_csv(files_path + '/dataset.csv')"
   ]
  },
  {
   "cell_type": "code",
   "execution_count": null,
   "metadata": {},
   "outputs": [],
   "source": []
  }
 ],
 "metadata": {
  "kernelspec": {
   "display_name": "Python 3",
   "language": "python",
   "name": "python3"
  },
  "language_info": {
   "codemirror_mode": {
    "name": "ipython",
    "version": 3
   },
   "file_extension": ".py",
   "mimetype": "text/x-python",
   "name": "python",
   "nbconvert_exporter": "python",
   "pygments_lexer": "ipython3",
   "version": "3.6.10"
  }
 },
 "nbformat": 4,
 "nbformat_minor": 2
}
